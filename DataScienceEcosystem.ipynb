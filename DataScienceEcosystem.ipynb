{
 "cells": [
  {
   "cell_type": "markdown",
   "id": "57d78c24-8273-45bb-9b07-d49b157070ab",
   "metadata": {},
   "source": [
    "# Data Science Tools and Ecosystem"
   ]
  },
  {
   "cell_type": "markdown",
   "id": "273783d6-cca4-49a3-98c9-c44dd2720061",
   "metadata": {},
   "source": [
    "### In this notebook, Data Science Tools and Ecosystem are summarized."
   ]
  },
  {
   "cell_type": "markdown",
   "id": "3368b5f2-f950-457a-b19a-796e27ff82cf",
   "metadata": {},
   "source": [
    "##### Some of the popular languages that Data Scientists use are:\n",
    "1. Python\n",
    "2. R\n",
    "3. SQL"
   ]
  },
  {
   "cell_type": "markdown",
   "id": "b796b0c4-2d20-47c5-97b6-cf1bc4f09cfa",
   "metadata": {},
   "source": [
    "##### Some of the commonly used libraries used by Data Scientists include:\n",
    "1. Pandas\n",
    "2. Seaborn\n",
    "3. ggplot2"
   ]
  },
  {
   "cell_type": "markdown",
   "id": "e9721f72-4532-4d3e-aacb-08289cbb07df",
   "metadata": {},
   "source": [
    "|Data Science Tools|\n",
    "|----|\n",
    "|Jupyter Notebook|\n",
    "|R studio|\n",
    "|Apache Spark|"
   ]
  },
  {
   "cell_type": "markdown",
   "id": "a8740bff-83c5-49ac-9149-6ffe1994434d",
   "metadata": {},
   "source": [
    "### Below are a few examples of evaluating arithmetic expressions in Python"
   ]
  },
  {
   "cell_type": "code",
   "execution_count": 7,
   "id": "9d320d13-542a-4a5c-bf1e-10f1f00aa96d",
   "metadata": {},
   "outputs": [
    {
     "data": {
      "text/plain": [
       "17"
      ]
     },
     "execution_count": 7,
     "metadata": {},
     "output_type": "execute_result"
    }
   ],
   "source": [
    "# this is a simple arithmetic expression to multiply and then add integers\n",
    "3*4 + 5"
   ]
  },
  {
   "cell_type": "code",
   "execution_count": 8,
   "id": "3d515ed0-cc26-4904-800c-2192d23308af",
   "metadata": {},
   "outputs": [
    {
     "name": "stdout",
     "output_type": "stream",
     "text": [
      "200 minutes is 3.33 hours\n"
     ]
    }
   ],
   "source": [
    "# this will convert minutes to hours\n",
    "minutes = 200\n",
    "hours = minutes / 60\n",
    "print (minutes, 'minutes is', round(hours, 2), 'hours')"
   ]
  },
  {
   "cell_type": "markdown",
   "id": "2a9e6c80-04fa-4a3e-b185-73b06f03c237",
   "metadata": {},
   "source": [
    "**Objectives:**\n",
    "- list popular languages in DS\n",
    "- list commonly used libraries\n",
    "- list tools for DS\n",
    "- show a simple arithmetic expression\n",
    "- show a super simple program converting time"
   ]
  },
  {
   "cell_type": "markdown",
   "id": "3ef5487f-f4ce-47f5-b6c8-7bc9ee1b701f",
   "metadata": {},
   "source": [
    "## Author\n",
    "Pawel Banasiewicz"
   ]
  }
 ],
 "metadata": {
  "kernelspec": {
   "display_name": "Python 3 (ipykernel)",
   "language": "python",
   "name": "python3"
  },
  "language_info": {
   "codemirror_mode": {
    "name": "ipython",
    "version": 3
   },
   "file_extension": ".py",
   "mimetype": "text/x-python",
   "name": "python",
   "nbconvert_exporter": "python",
   "pygments_lexer": "ipython3",
   "version": "3.13.5"
  },
  "panel-cell-order": [
   "7ed09cd7-16da-4675-8e14-4935d4679336"
  ]
 },
 "nbformat": 4,
 "nbformat_minor": 5
}
